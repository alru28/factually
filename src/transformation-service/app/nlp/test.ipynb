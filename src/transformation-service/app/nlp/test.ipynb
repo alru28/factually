{
 "cells": [
  {
   "cell_type": "code",
   "execution_count": 1,
   "metadata": {},
   "outputs": [
    {
     "name": "stderr",
     "output_type": "stream",
     "text": [
      "c:\\Users\\theal\\miniconda3\\envs\\LLLM\\Lib\\site-packages\\tqdm\\auto.py:21: TqdmWarning: IProgress not found. Please update jupyter and ipywidgets. See https://ipywidgets.readthedocs.io/en/stable/user_install.html\n",
      "  from .autonotebook import tqdm as notebook_tqdm\n"
     ]
    },
    {
     "ename": "ModuleNotFoundError",
     "evalue": "No module named 'app'",
     "output_type": "error",
     "traceback": [
      "\u001b[1;31m---------------------------------------------------------------------------\u001b[0m",
      "\u001b[1;31mModuleNotFoundError\u001b[0m                       Traceback (most recent call last)",
      "Cell \u001b[1;32mIn[1], line 3\u001b[0m\n\u001b[0;32m      1\u001b[0m \u001b[38;5;28;01mimport\u001b[39;00m \u001b[38;5;21;01mrequests\u001b[39;00m\n\u001b[0;32m      2\u001b[0m \u001b[38;5;28;01mfrom\u001b[39;00m \u001b[38;5;21;01mtransformers\u001b[39;00m \u001b[38;5;28;01mimport\u001b[39;00m pipeline\n\u001b[1;32m----> 3\u001b[0m \u001b[38;5;28;01mfrom\u001b[39;00m \u001b[38;5;21;01mapp\u001b[39;00m\u001b[38;5;21;01m.\u001b[39;00m\u001b[38;5;21;01mutils\u001b[39;00m\u001b[38;5;21;01m.\u001b[39;00m\u001b[38;5;21;01mservices\u001b[39;00m \u001b[38;5;28;01mimport\u001b[39;00m retrieve_article, update_article, store_processed_article\n\u001b[0;32m      5\u001b[0m \u001b[38;5;66;03m# Base URL of your storage service (adjust as needed)\u001b[39;00m\n\u001b[0;32m      6\u001b[0m STORAGE_SERVICE_URL \u001b[38;5;241m=\u001b[39m \u001b[38;5;124m\"\u001b[39m\u001b[38;5;124mhttp://localhost:8000\u001b[39m\u001b[38;5;124m\"\u001b[39m\n",
      "\u001b[1;31mModuleNotFoundError\u001b[0m: No module named 'app'"
     ]
    }
   ],
   "source": [
    "import requests\n",
    "from transformers import pipeline\n",
    "from app.utils.services import retrieve_article, update_article, store_processed_article\n",
    "\n",
    "# Base URL of your storage service (adjust as needed)\n",
    "STORAGE_SERVICE_URL = \"http://localhost:8000\"\n",
    "\n",
    "class NLPProcessor:\n",
    "    def __init__(self):\n",
    "        # Load pipelines for each task\n",
    "        self.summarizer = pipeline(\"summarization\")\n",
    "        self.sentiment_analyzer = pipeline(\"sentiment-analysis\")\n",
    "        # For classification, we use zero-shot-classification which allows dynamic candidate labels.\n",
    "        self.classifier = pipeline(\"zero-shot-classification\")\n",
    "    \n",
    "    def retrieve_article(self, article_id: str) -> dict:\n",
    "        \"\"\"\n",
    "        Retrieves an article from the storage service via its API.\n",
    "        Expects the article object to contain a 'content' field.\n",
    "        \"\"\"\n",
    "        url = f\"{STORAGE_SERVICE_URL}/articles/{article_id}\"\n",
    "        response = requests.get(url)\n",
    "        if response.status_code != 200:\n",
    "            raise Exception(f\"Failed to retrieve article {article_id}: {response.text}\")\n",
    "        return response.json()\n",
    "    \n",
    "    def summarize(self, article_id: str) -> str:\n",
    "        \"\"\"\n",
    "        Retrieves the article and returns its summary.\n",
    "        Adjust max_length and min_length parameters as needed.\n",
    "        \"\"\"\n",
    "        article = self.retrieve_article(article_id)\n",
    "        text = article.get(\"content\")\n",
    "        if not text:\n",
    "            raise Exception(f\"Article {article_id} has no content to summarize.\")\n",
    "        summary = self.summarizer(text, max_length=130, min_length=30, do_sample=False)\n",
    "        return summary[0]['summary_text']\n",
    "    \n",
    "    def analyze_sentiment(self, article_id: str) -> dict:\n",
    "        \"\"\"\n",
    "        Retrieves the article and performs sentiment analysis.\n",
    "        Returns a dictionary with the sentiment label and score.\n",
    "        \"\"\"\n",
    "        article = self.retrieve_article(article_id)\n",
    "        text = article.get(\"content\")\n",
    "        if not text:\n",
    "            raise Exception(f\"Article {article_id} has no content for sentiment analysis.\")\n",
    "        sentiment = self.sentiment_analyzer(text)\n",
    "        return sentiment[0]\n",
    "    \n",
    "    def classify(self, article_id: str, candidate_labels: list = None) -> dict:\n",
    "        \"\"\"\n",
    "        Retrieves the article and classifies it into one of the candidate labels.\n",
    "        If no candidate_labels are provided, a default set is used.\n",
    "        \"\"\"\n",
    "        if candidate_labels is None:\n",
    "            candidate_labels = [\"economics\", \"sports\", \"entertainment\", \"politics\", \"technology\", \"culture\", \"\"]\n",
    "        article = self.retrieve_article(article_id)\n",
    "        text = article.get(\"content\")\n",
    "        if not text:\n",
    "            raise Exception(f\"Article {article_id} has no content to classify.\")\n",
    "        classification = self.classifier(text, candidate_labels)\n",
    "        return classification"
   ]
  },
  {
   "cell_type": "code",
   "execution_count": null,
   "metadata": {},
   "outputs": [],
   "source": [
    "nlp_processor = NLPProcessor()\n",
    "test_article_id = \"your-article-uuid-here\"\n",
    "try:\n",
    "    summary = nlp_processor.summarize(test_article_id)\n",
    "    print(\"Summary:\", summary)\n",
    "    \n",
    "    sentiment = nlp_processor.analyze_sentiment(test_article_id)\n",
    "    print(\"Sentiment:\", sentiment)\n",
    "    \n",
    "    classification = nlp_processor.classify(test_article_id)\n",
    "    print(\"Classification:\", classification)\n",
    "except Exception as e:\n",
    "    print(\"Error:\", str(e))"
   ]
  }
 ],
 "metadata": {
  "kernelspec": {
   "display_name": "LLLM",
   "language": "python",
   "name": "python3"
  },
  "language_info": {
   "codemirror_mode": {
    "name": "ipython",
    "version": 3
   },
   "file_extension": ".py",
   "mimetype": "text/x-python",
   "name": "python",
   "nbconvert_exporter": "python",
   "pygments_lexer": "ipython3",
   "version": "3.12.7"
  }
 },
 "nbformat": 4,
 "nbformat_minor": 2
}
